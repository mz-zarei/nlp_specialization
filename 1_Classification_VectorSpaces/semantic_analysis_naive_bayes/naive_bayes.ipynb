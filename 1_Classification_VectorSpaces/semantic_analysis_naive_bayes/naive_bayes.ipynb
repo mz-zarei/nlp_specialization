{
 "cells": [
  {
   "cell_type": "markdown",
   "id": "ee0eb925",
   "metadata": {},
   "source": [
    "# Sematntic Analysis usng Naive Bayes from Scratch"
   ]
  },
  {
   "cell_type": "code",
   "execution_count": 21,
   "id": "f3005d30",
   "metadata": {},
   "outputs": [],
   "source": [
    "# ! pip3 install requirement.text"
   ]
  },
  {
   "cell_type": "code",
   "execution_count": 15,
   "id": "3088b769",
   "metadata": {},
   "outputs": [
    {
     "name": "stdout",
     "output_type": "stream",
     "text": [
      "[nltk_data] Downloading package twitter_samples to ./...\n",
      "[nltk_data]   Package twitter_samples is already up-to-date!\n",
      "[nltk_data] Downloading package stopwords to ./...\n",
      "[nltk_data]   Package stopwords is already up-to-date!\n",
      "data loaded successfully!\n",
      "frequency dict is created successfully!\n",
      "Training is done successfully! loglikelihood dictionary is saved at ./out/nb_weights.npy\n",
      "Test accuracy: 0.9955\n",
      "\n",
      " Error Analysis:\n",
      "\n",
      "Truth Predicted Tweet\n",
      "1\t0.00\tb'truli later move know queen bee upward bound movingonup'\n",
      "1\t0.00\tb'new report talk burn calori cold work harder warm feel better weather :p'\n",
      "1\t0.00\tb'harri niall 94 harri born ik stupid wanna chang :d'\n",
      "1\t0.00\tb'park get sunlight'\n",
      "1\t0.00\tb'uff itna miss karhi thi ap :p'\n",
      "0\t1.00\tb'hello info possibl interest jonatha close join beti :( great'\n",
      "0\t1.00\tb'u prob fun david'\n",
      "0\t1.00\tb'pat jay'\n",
      "0\t1.00\tb'sr financi analyst expedia inc bellevu wa financ expediajob job job hire'\n"
     ]
    }
   ],
   "source": [
    "!python3 main.py --split-ratio 0.8 --verbos True"
   ]
  },
  {
   "cell_type": "markdown",
   "id": "5b835dd3",
   "metadata": {},
   "source": [
    "# Predict with your own tweet"
   ]
  },
  {
   "cell_type": "code",
   "execution_count": 23,
   "id": "4ac5f0d5",
   "metadata": {},
   "outputs": [
    {
     "name": "stdout",
     "output_type": "stream",
     "text": [
      "9.570146938746324\n"
     ]
    }
   ],
   "source": [
    "import utils\n",
    "import numpy as np\n",
    "import nltk\n",
    "from os import getcwd\n",
    "\n",
    "# Test with your own tweet - feel free to modify `my_tweet`\n",
    "my_tweet = 'I am happy because I am learning :)'\n",
    "\n",
    "\n",
    "\n",
    "filePath = f\"{getcwd()}/\"\n",
    "nltk.data.path.append(filePath)\n",
    "loglikelihood = np.load('./out/nb_weights.npy',allow_pickle='TRUE').item()\n",
    "\n",
    "\n",
    "p = utils.naive_bayes_predict(my_tweet, loglikelihood)\n",
    "print(p)"
   ]
  }
 ],
 "metadata": {
  "kernelspec": {
   "display_name": "Python 3.9.6 64-bit",
   "language": "python",
   "name": "python3"
  },
  "language_info": {
   "codemirror_mode": {
    "name": "ipython",
    "version": 3
   },
   "file_extension": ".py",
   "mimetype": "text/x-python",
   "name": "python",
   "nbconvert_exporter": "python",
   "pygments_lexer": "ipython3",
   "version": "3.9.6"
  },
  "vscode": {
   "interpreter": {
    "hash": "31f2aee4e71d21fbe5cf8b01ff0e069b9275f58929596ceb00d14d90e3e16cd6"
   }
  }
 },
 "nbformat": 4,
 "nbformat_minor": 5
}
