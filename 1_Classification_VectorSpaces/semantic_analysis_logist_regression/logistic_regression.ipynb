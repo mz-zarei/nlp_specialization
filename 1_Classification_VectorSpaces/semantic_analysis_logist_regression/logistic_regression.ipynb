{
 "cells": [
  {
   "cell_type": "markdown",
   "id": "ee0eb925",
   "metadata": {},
   "source": [
    "# Sematntic Analysis usng Logistic Regression from Scratch"
   ]
  },
  {
   "cell_type": "code",
   "execution_count": 21,
   "id": "f3005d30",
   "metadata": {},
   "outputs": [],
   "source": [
    "# ! pip3 install requirement.text"
   ]
  },
  {
   "cell_type": "code",
   "execution_count": 5,
   "id": "3088b769",
   "metadata": {},
   "outputs": [
    {
     "name": "stdout",
     "output_type": "stream",
     "text": [
      "[nltk_data] Downloading package twitter_samples to ./...\n",
      "[nltk_data]   Package twitter_samples is already up-to-date!\n",
      "[nltk_data] Downloading package stopwords to ./...\n",
      "[nltk_data]   Package stopwords is already up-to-date!\n",
      "data loaded successfully!\n",
      "frequency dict is created successfully!\n",
      "Training is done successfully! weights are saved at ./logistic_weights.csv\n",
      "\n",
      " finall loss: 0.22521260030798265\n",
      "\n",
      " theta vector (bias, positive values, negative values): [[ 6.03424129e-08]\n",
      " [ 5.38196003e-04]\n",
      " [-5.58303158e-04]]\n",
      "Test accuracy: 0.995\n"
     ]
    }
   ],
   "source": [
    "!python3 main.py --split-ratio 0.8 --verbos True"
   ]
  },
  {
   "cell_type": "code",
   "execution_count": 9,
   "id": "d79335df",
   "metadata": {},
   "outputs": [
    {
     "data": {
      "text/plain": [
       "Text(0, 0.5, 'Negative')"
      ]
     },
     "execution_count": 9,
     "metadata": {},
     "output_type": "execute_result"
    },
    {
     "data": {
      "image/png": "[encoded data removed]",
      "text/plain": [
       "<Figure size 400x400 with 1 Axes>"
      ]
     },
     "metadata": {},
     "output_type": "display_data"
    }
   ],
   "source": [
    "import pandas as pd\n",
    "import matplotlib.pyplot as plt\n",
    "\n",
    "processed_data = pd.read_csv('./out/preccessed_data.csv')\n",
    "\n",
    "# Plot the samples using columns 1 and 2 of the matrix\n",
    "fig, ax = plt.subplots(figsize = (4, 4))\n",
    "\n",
    "colors = ['red', 'green']\n",
    "\n",
    "# Color based on the sentiment Y\n",
    "ax.scatter(processed_data.positiveness, \n",
    "            processed_data.negativeness, \n",
    "            c=[colors[int(k)] for k in processed_data.label], \n",
    "            s = 0.1)  \n",
    "plt.xlabel(\"Positive\")\n",
    "plt.ylabel(\"Negative\")"
   ]
  },
  {
   "cell_type": "markdown",
   "id": "5b835dd3",
   "metadata": {},
   "source": [
    "# Predict with your own tweet"
   ]
  },
  {
   "cell_type": "code",
   "execution_count": 9,
   "id": "4ac5f0d5",
   "metadata": {},
   "outputs": [
    {
     "name": "stderr",
     "output_type": "stream",
     "text": [
      "[nltk_data] Downloading package twitter_samples to ./...\n",
      "[nltk_data]   Package twitter_samples is already up-to-date!\n",
      "[nltk_data] Downloading package stopwords to ./...\n",
      "[nltk_data]   Package stopwords is already up-to-date!\n"
     ]
    },
    {
     "name": "stdout",
     "output_type": "stream",
     "text": [
      "Negative sentiment\n"
     ]
    }
   ],
   "source": [
    "import utils \n",
    "import pandas as pd\n",
    "\n",
    "\n",
    "# Feel free to change the tweet below\n",
    "my_tweet = 'This is a ridiculously bright movie. The plot was terrible and I was sad until the ending!'\n",
    "\n",
    "\n",
    "# Load and prepare data set\n",
    "train_x, train_y, test_x, test_y = utils.prepare_dataset(0.8)\n",
    "\n",
    "# Load weights\n",
    "theta = pd.read_csv(\"./logistic_weights.csv\", header=None).values\n",
    "\n",
    "# create frequency dictionary\n",
    "freqs = utils.build_freqs(train_x, train_y)\n",
    "\n",
    "# predict lable\n",
    "y_hat = utils.predict_tweet(my_tweet, freqs, theta)\n",
    "if y_hat > 0.5:\n",
    "    print('Positive sentiment!')\n",
    "else: \n",
    "    print('Negative sentiment!')"
   ]
  }
 ],
 "metadata": {
  "kernelspec": {
   "display_name": "Python 3.9.6 64-bit",
   "language": "python",
   "name": "python3"
  },
  "language_info": {
   "codemirror_mode": {
    "name": "ipython",
    "version": 3
   },
   "file_extension": ".py",
   "mimetype": "text/x-python",
   "name": "python",
   "nbconvert_exporter": "python",
   "pygments_lexer": "ipython3",
   "version": "3.9.6"
  },
  "vscode": {
   "interpreter": {
    "hash": "31f2aee4e71d21fbe5cf8b01ff0e069b9275f58929596ceb00d14d90e3e16cd6"
   }
  }
 },
 "nbformat": 4,
 "nbformat_minor": 5
}
